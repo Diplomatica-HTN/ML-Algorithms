{
 "cells": [
  {
   "cell_type": "markdown",
   "source": [
    "# Imports"
   ],
   "metadata": {}
  },
  {
   "cell_type": "code",
   "execution_count": 1,
   "source": [
    "from nltk.corpus import stopwords\r\n",
    "from nltk.cluster.util import cosine_distance\r\n",
    "import numpy as np\r\n",
    "import networkx as nx"
   ],
   "outputs": [],
   "metadata": {}
  },
  {
   "cell_type": "markdown",
   "source": [
    "# Reading Text"
   ],
   "metadata": {}
  },
  {
   "cell_type": "code",
   "execution_count": 2,
   "source": [
    "def read_text(data):\r\n",
    "    article = data.split(\". \")\r\n",
    "    sentences = []\r\n",
    "\r\n",
    "    for sentence in article:\r\n",
    "        sentences.append(sentence.replace(\"[^a-zA-Z]\", \" \").split(\" \"))\r\n",
    "    sentences.pop() \r\n",
    "    \r\n",
    "    return sentences"
   ],
   "outputs": [],
   "metadata": {}
  },
  {
   "cell_type": "markdown",
   "source": [
    "# Recording Sentence Similarity"
   ],
   "metadata": {}
  },
  {
   "cell_type": "code",
   "execution_count": 3,
   "source": [
    "def sentence_similarity(sent1, sent2, stopwords=None):\r\n",
    "    if stopwords is None:\r\n",
    "        stopwords = []\r\n",
    " \r\n",
    "    sent1 = [w.lower() for w in sent1]\r\n",
    "    sent2 = [w.lower() for w in sent2]\r\n",
    "    all_words = list(set(sent1 + sent2))\r\n",
    "    vector1 = [0] * len(all_words)\r\n",
    "    vector2 = [0] * len(all_words)\r\n",
    " \r\n",
    "    for w in sent1:\r\n",
    "        if w in stopwords:\r\n",
    "            continue\r\n",
    "        vector1[all_words.index(w)] += 1\r\n",
    " \r\n",
    "    for w in sent2:\r\n",
    "        if w in stopwords:\r\n",
    "            continue\r\n",
    "        vector2[all_words.index(w)] += 1\r\n",
    " \r\n",
    "    return 1 - cosine_distance(vector1, vector2)"
   ],
   "outputs": [],
   "metadata": {}
  },
  {
   "cell_type": "markdown",
   "source": [
    "# Build Similarity Matrix"
   ],
   "metadata": {}
  },
  {
   "cell_type": "code",
   "execution_count": 4,
   "source": [
    "def build_similarity_matrix(sentences, stop_words):\r\n",
    "    similarity_matrix = np.zeros((len(sentences), len(sentences)))\r\n",
    " \r\n",
    "    for idx1 in range(len(sentences)):\r\n",
    "        for idx2 in range(len(sentences)):\r\n",
    "            if idx1 == idx2: \r\n",
    "                continue \r\n",
    "            similarity_matrix[idx1][idx2] = sentence_similarity(sentences[idx1], sentences[idx2], stop_words)\r\n",
    "\r\n",
    "    return similarity_matrix"
   ],
   "outputs": [],
   "metadata": {}
  },
  {
   "cell_type": "markdown",
   "source": [
    "# Generating Final Summary"
   ],
   "metadata": {}
  },
  {
   "cell_type": "code",
   "execution_count": 5,
   "source": [
    "def generate_summary(data, top_n=5):\r\n",
    "    stop_words = stopwords.words('english')\r\n",
    "    summarize_text = []\r\n",
    "    sentences =  read_text(data)\r\n",
    "\r\n",
    "    sentence_similarity_martix = build_similarity_matrix(sentences, stop_words)\r\n",
    "\r\n",
    "    sentence_similarity_graph = nx.from_numpy_array(sentence_similarity_martix)\r\n",
    "    scores = nx.pagerank(sentence_similarity_graph)\r\n",
    "\r\n",
    "    ranked_sentence = sorted(((scores[i],s) for i,s in enumerate(sentences)), reverse=True)    \r\n",
    "\r\n",
    "    for i in range(top_n):\r\n",
    "      summarize_text.append(\" \".join(ranked_sentence[i][1]))\r\n",
    "    \r\n",
    "    summarize_text[len(summarize_text) - 1] += '.'\r\n",
    "    \r\n",
    "    return '. '.join(summarize_text)"
   ],
   "outputs": [],
   "metadata": {}
  },
  {
   "cell_type": "code",
   "execution_count": 6,
   "source": [
    "val = '''SALT LAKE CITY — The State of Utah now has a better timeline on when the first group of Afghan refugees could arrive in the Beehive State. The Department of Workforce Services Refugees Services Office said Friday that refugees could land in Salt Lake City as early as the second week of October.\r\n",
    "\r\n",
    "The state, along with multiple agencies and local organizations have been busy behind the scenes trying to coordinate resources, from employment to financial aid, to healthcare access, to goods and housing.\r\n",
    "\r\n",
    "READ: More than 750 Afghan refugees expected to resettle in Utah over the coming months\r\n",
    "\r\n",
    "\"We all saw the videos in Afghanistan of people rushing to get to the airport and trying to exit and leave,\" said State of Utah Refugee Services Office Director Asha Parekh.\r\n",
    "\r\n",
    "Parekh said some arriving are humanitarian parolees, who will not have access to federal funds like those with special immigrant visas. That's because the emergency situation in Afghanistan, she said, meant many left their homes in an urgent rush without time to fill out all the paperwork or to complete their legal status.\r\n",
    "\r\n",
    "She said many individuals who made it to the US are at various military bases, waiting to go through medical screening and get work authorization.\r\n",
    "\r\n",
    "WATCH: After fleeing Kabul, Utah restaurant owner finds success sharing Afghan culture with community\r\n",
    "\r\n",
    "Meanwhile, offices like Parekh's are busy planning for as many as 750 refugees to arrive in Salt Lake City.\r\n",
    "\r\n",
    "\"The Governor's Advisory Board has set up three working groups,\" she said. \"One is to address the issue of housing because we know that there is limited housing in our state.\"\r\n",
    "\r\n",
    "Parekh explained a task force is focusing on securing housing, in what's already a tight market.\r\n",
    "\r\n",
    "\"We're not sure yet how that process will work,\" she said. \"We hope that it's smooth and clean, but recognizing that people, that Afghan humanitarian parolees, have experienced trauma.\"\r\n",
    "\r\n",
    "Wanting to help ease that tough transition, hundreds of landlords stand ready to assist.\r\n",
    "\r\n",
    "Paul Smith, Executive Director of the Utah Apartment Association said they sent out an email blast to all of their landlords. The response was overwhelming.\r\n",
    "\r\n",
    "\"The owners of over 20,000 units have already volunteered to work with refugees,\" he said.\r\n",
    "\r\n",
    "Smith said they're still working out exact logisitics, but they're hoping to use COVID-19 state aid to pay six months of rent for incoming refugees.\r\n",
    "\r\n",
    "\"The State Department said they'll give us about a week's worth notice,\" he described. \"We'll reach out to our list of landlords and say, 'Do you have two-bedroom in Sugar House available?' Or, 'Do you have a three-bedroom in Utah County?' And we'll identify a unit, hopefully have it ready by the time the refugees get here.\"\r\n",
    "\r\n",
    "In addition to housing, there are other groups coordinating specifics to help furnish apartments and find people jobs. Parekh explained that healthcare partners like Intermountain Healthcare will help with medical assistance.\r\n",
    "\r\n",
    "She knows how important it'll be to have these resources on standby, for as smooth a resettlement process as possible.\r\n",
    "\r\n",
    "\"Being able to help them move into an apartment that they can call their own in this new land, is going to make a huge difference to their experience,\" she said.'''"
   ],
   "outputs": [],
   "metadata": {}
  },
  {
   "cell_type": "code",
   "execution_count": 7,
   "source": [
    "a = generate_summary(val, 3)\r\n",
    "a"
   ],
   "outputs": [
    {
     "output_type": "execute_result",
     "data": {
      "text/plain": [
       "'The Department of Workforce Services Refugees Services Office said Friday that refugees could land in Salt Lake City as early as the second week of October.\\n\\nThe state, along with multiple agencies and local organizations have been busy behind the scenes trying to coordinate resources, from employment to financial aid, to healthcare access, to goods and housing.\\n\\nREAD: More than 750 Afghan refugees expected to resettle in Utah over the coming months\\n\\n\"We all saw the videos in Afghanistan of people rushing to get to the airport and trying to exit and leave,\" said State of Utah Refugee Services Office Director Asha Parekh.\\n\\nParekh said some arriving are humanitarian parolees, who will not have access to federal funds like those with special immigrant visas. SALT LAKE CITY — The State of Utah now has a better timeline on when the first group of Afghan refugees could arrive in the Beehive State. That\\'s because the emergency situation in Afghanistan, she said, meant many left their homes in an urgent rush without time to fill out all the paperwork or to complete their legal status.\\n\\nShe said many individuals who made it to the US are at various military bases, waiting to go through medical screening and get work authorization.\\n\\nWATCH: After fleeing Kabul, Utah restaurant owner finds success sharing Afghan culture with community\\n\\nMeanwhile, offices like Parekh\\'s are busy planning for as many as 750 refugees to arrive in Salt Lake City.\\n\\n\"The Governor\\'s Advisory Board has set up three working groups,\" she said.'"
      ]
     },
     "metadata": {},
     "execution_count": 7
    }
   ],
   "metadata": {}
  }
 ],
 "metadata": {
  "orig_nbformat": 4,
  "language_info": {
   "name": "python",
   "version": "3.6.12",
   "mimetype": "text/x-python",
   "codemirror_mode": {
    "name": "ipython",
    "version": 3
   },
   "pygments_lexer": "ipython3",
   "nbconvert_exporter": "python",
   "file_extension": ".py"
  },
  "kernelspec": {
   "name": "python3",
   "display_name": "Python 3.6.12 64-bit ('env0': conda)"
  },
  "interpreter": {
   "hash": "fefd83eafc0c2f3c8796de3f6632c2698dc12eafcdd46e5a8c965eb3d21b0b49"
  }
 },
 "nbformat": 4,
 "nbformat_minor": 2
}