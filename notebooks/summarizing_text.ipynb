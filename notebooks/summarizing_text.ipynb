{
 "cells": [
  {
   "cell_type": "markdown",
   "source": [
    "# Imports"
   ],
   "metadata": {}
  },
  {
   "cell_type": "code",
   "execution_count": 1,
   "source": [
    "from nltk.corpus import stopwords\r\n",
    "from nltk.cluster.util import cosine_distance\r\n",
    "import numpy as np\r\n",
    "import networkx as nx"
   ],
   "outputs": [],
   "metadata": {}
  },
  {
   "cell_type": "markdown",
   "source": [
    "# Reading Text"
   ],
   "metadata": {}
  },
  {
   "cell_type": "code",
   "execution_count": 2,
   "source": [
    "def read_text(data):\r\n",
    "    article = data.split(\". \")\r\n",
    "    sentences = []\r\n",
    "\r\n",
    "    for sentence in article:\r\n",
    "        sentences.append(sentence.replace(\"[^a-zA-Z]\", \" \").split(\" \"))\r\n",
    "    sentences.pop() \r\n",
    "    \r\n",
    "    return sentences"
   ],
   "outputs": [],
   "metadata": {}
  },
  {
   "cell_type": "markdown",
   "source": [
    "# Recording Sentence Similarity"
   ],
   "metadata": {}
  },
  {
   "cell_type": "code",
   "execution_count": 3,
   "source": [
    "def sentence_similarity(sent1, sent2, stopwords=None):\r\n",
    "    if stopwords is None:\r\n",
    "        stopwords = []\r\n",
    " \r\n",
    "    sent1 = [w.lower() for w in sent1]\r\n",
    "    sent2 = [w.lower() for w in sent2]\r\n",
    "    all_words = list(set(sent1 + sent2))\r\n",
    "    vector1 = [0] * len(all_words)\r\n",
    "    vector2 = [0] * len(all_words)\r\n",
    " \r\n",
    "    for w in sent1:\r\n",
    "        if w in stopwords:\r\n",
    "            continue\r\n",
    "        vector1[all_words.index(w)] += 1\r\n",
    " \r\n",
    "    for w in sent2:\r\n",
    "        if w in stopwords:\r\n",
    "            continue\r\n",
    "        vector2[all_words.index(w)] += 1\r\n",
    " \r\n",
    "    return 1 - cosine_distance(vector1, vector2)"
   ],
   "outputs": [],
   "metadata": {}
  },
  {
   "cell_type": "markdown",
   "source": [
    "# Build Similarity Matrix"
   ],
   "metadata": {}
  },
  {
   "cell_type": "code",
   "execution_count": 4,
   "source": [
    "def build_similarity_matrix(sentences, stop_words):\r\n",
    "    similarity_matrix = np.zeros((len(sentences), len(sentences)))\r\n",
    " \r\n",
    "    for idx1 in range(len(sentences)):\r\n",
    "        for idx2 in range(len(sentences)):\r\n",
    "            if idx1 == idx2: \r\n",
    "                continue \r\n",
    "            similarity_matrix[idx1][idx2] = sentence_similarity(sentences[idx1], sentences[idx2], stop_words)\r\n",
    "\r\n",
    "    return similarity_matrix"
   ],
   "outputs": [],
   "metadata": {}
  },
  {
   "cell_type": "markdown",
   "source": [
    "# Generating Final Summary"
   ],
   "metadata": {}
  },
  {
   "cell_type": "code",
   "execution_count": 5,
   "source": [
    "def generate_summary(data, top_n=5):\r\n",
    "    stop_words = stopwords.words('english')\r\n",
    "    summarize_text = []\r\n",
    "    sentences =  read_text(data)\r\n",
    "\r\n",
    "    sentence_similarity_martix = build_similarity_matrix(sentences, stop_words)\r\n",
    "\r\n",
    "    sentence_similarity_graph = nx.from_numpy_array(sentence_similarity_martix)\r\n",
    "    scores = nx.pagerank(sentence_similarity_graph)\r\n",
    "\r\n",
    "    ranked_sentence = sorted(((scores[i],s) for i,s in enumerate(sentences)), reverse=True)    \r\n",
    "\r\n",
    "    for i in range(top_n):\r\n",
    "      summarize_text.append(\" \".join(ranked_sentence[i][1]))\r\n",
    "    \r\n",
    "    summarize_text[len(summarize_text) - 1] += '.'\r\n",
    "    \r\n",
    "    return '. '.join(summarize_text)"
   ],
   "outputs": [],
   "metadata": {}
  },
  {
   "cell_type": "code",
   "execution_count": 6,
   "source": [
    "val = \"\"\"'In an attempt to build an AI-ready workforce, Microsoft announced Intelligent Cloud Hub which has been launched to empower the next generation of students with AI-ready skills. Envisioned as a three-year collaborative program, Intelligent Cloud Hub will support around 100 institutions with AI infrastructure, course content and curriculum, developer support, development tools and give students access to cloud and AI services. As part of the program, the Redmond giant which wants to expand its reach and is planning to build a strong developer ecosystem in India with the program will set up the core AI infrastructure and IoT Hub for the selected campuses. The company will provide AI development tools and Azure AI services such as Microsoft Cognitive Services, Bot Services and Azure Machine Learning.According to Manish Prakash, Country General Manager-PS, Health and Education, Microsoft India, said, \"With AI being the defining technology of our time, it is transforming lives and industry and the jobs of tomorrow will require a different skillset. This will require more collaborations and training and working with AI. That’s why it has become more critical than ever for educational institutions to integrate new cloud and AI technologies. The program is an attempt to ramp up the institutional set-up and build capabilities among the educators to educate the workforce of tomorrow.\" The program aims to build up the cognitive skills and in-depth understanding of developing intelligent cloud connected solutions for applications across industry. Earlier in April this year, the company announced Microsoft Professional Program In AI as a learning track open to the public. The program was developed to provide job ready skills to programmers who wanted to hone their skills in AI and data science with a series of online courses which featured hands-on labs and expert instructors as well. This program also included developer-focused AI school that provided a bunch of assets to help build AI skills.'\"\"\""
   ],
   "outputs": [],
   "metadata": {}
  },
  {
   "cell_type": "code",
   "execution_count": 7,
   "source": [
    "a = generate_summary(val, 3)\r\n",
    "a"
   ],
   "outputs": [
    {
     "output_type": "execute_result",
     "data": {
      "text/plain": [
       "'Envisioned as a three-year collaborative program, Intelligent Cloud Hub will support around 100 institutions with AI infrastructure, course content and curriculum, developer support, development tools and give students access to cloud and AI services. The company will provide AI development tools and Azure AI services such as Microsoft Cognitive Services, Bot Services and Azure Machine Learning.According to Manish Prakash, Country General Manager-PS, Health and Education, Microsoft India, said, \"With AI being the defining technology of our time, it is transforming lives and industry and the jobs of tomorrow will require a different skillset. Earlier in April this year, the company announced Microsoft Professional Program In AI as a learning track open to the public.'"
      ]
     },
     "metadata": {},
     "execution_count": 7
    }
   ],
   "metadata": {}
  }
 ],
 "metadata": {
  "orig_nbformat": 4,
  "language_info": {
   "name": "python",
   "version": "3.6.12",
   "mimetype": "text/x-python",
   "codemirror_mode": {
    "name": "ipython",
    "version": 3
   },
   "pygments_lexer": "ipython3",
   "nbconvert_exporter": "python",
   "file_extension": ".py"
  },
  "kernelspec": {
   "name": "python3",
   "display_name": "Python 3.6.12 64-bit ('env0': conda)"
  },
  "interpreter": {
   "hash": "fefd83eafc0c2f3c8796de3f6632c2698dc12eafcdd46e5a8c965eb3d21b0b49"
  }
 },
 "nbformat": 4,
 "nbformat_minor": 2
}