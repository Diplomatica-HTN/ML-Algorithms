{
 "cells": [
  {
   "cell_type": "code",
   "execution_count": 7,
   "source": [
    "from urllib.request import Request, urlopen \r\n",
    "from bs4 import BeautifulSoup\r\n",
    "import requests"
   ],
   "outputs": [],
   "metadata": {}
  },
  {
   "cell_type": "code",
   "execution_count": 12,
   "source": [
    "root = \"https://www.google.com/\"\r\n",
    "search_engine_string = 'search?q='\r\n",
    "search_engine_other_half = '&sxsrf=AOaemvIiKfd8dkMCkRXEhoZm3rjXFGMzCQ:1631931499445&source=lnms&tbm=nws&sa=X&ved=2ahUKEwikm8nKuofzAhUPElkFHVshBFUQ_AUoAnoECAEQBA&biw=1295&bih=697&dpr=2'\r\n",
    "user_search = input(\"What would you like to search for?: \")\r\n",
    "user_search = user_search.strip(\" \")\r\n",
    "new_link = root + search_engine_string + user_search + search_engine_other_half\r\n",
    "\r\n",
    "link = new_link\r\n",
    "\r\n",
    "lst = []\r\n",
    "req = Request(link, headers={'User-Agent': 'Mozilla/5.0'})\r\n",
    "webpage = urlopen(req).read()\r\n",
    "with requests.Session() as c:\r\n",
    "    soup = BeautifulSoup(webpage, 'lxml')\r\n",
    "    #print(soup)\r\n",
    "    for item in soup.find_all('div', attrs={'class':'kCrYT'}):\r\n",
    "        try:\r\n",
    "            try:\r\n",
    "                raw_link = (item.find('a', href=True)['href'])\r\n",
    "                link = (raw_link.split(\"/url?q=\")[1]).split('&sa=U&')[0]\r\n",
    "                if not link in lst:\r\n",
    "                    lst.append(link)\r\n",
    "                else:\r\n",
    "                    pass\r\n",
    "            except IndexError:\r\n",
    "                break\r\n",
    "        except TypeError:\r\n",
    "            pass"
   ],
   "outputs": [],
   "metadata": {}
  },
  {
   "cell_type": "code",
   "execution_count": 13,
   "source": [
    "lst"
   ],
   "outputs": [
    {
     "output_type": "execute_result",
     "data": {
      "text/plain": [
       "['https://globalnews.ca/news/8200111/canada-election-5-things-to-know-polls/',\n",
       " 'https://globalnews.ca/news/8192282/canada-election-2021-alberta-ridings-to-watch/',\n",
       " 'https://www.reuters.com/world/americas/canada-election-dead-heat-liberals-drop-candidate-2021-09-18/',\n",
       " 'https://globalnews.ca/news/8197618/canada-election-2021-saskatoon-west-battleground/',\n",
       " 'https://globalnews.ca/news/8197087/canada-election-candidates-kelowna-lake-country/',\n",
       " 'https://globalnews.ca/news/8194241/black-indigenous-voters-federal-election/',\n",
       " 'https://globalnews.ca/news/8196504/canada-election-covid-pandemic-prevention/',\n",
       " 'https://globalnews.ca/news/8200743/tight-result-saskatchewans-desnethe-missinippi-churchill-river/',\n",
       " 'https://globalnews.ca/news/8194004/canada-election-regina-lewvan-federal-candidates/',\n",
       " 'https://globalnews.ca/news/8104549/voting-guide-canada-election-2021/']"
      ]
     },
     "metadata": {},
     "execution_count": 13
    }
   ],
   "metadata": {}
  }
 ],
 "metadata": {
  "orig_nbformat": 4,
  "language_info": {
   "name": "python",
   "version": "3.6.12",
   "mimetype": "text/x-python",
   "codemirror_mode": {
    "name": "ipython",
    "version": 3
   },
   "pygments_lexer": "ipython3",
   "nbconvert_exporter": "python",
   "file_extension": ".py"
  },
  "kernelspec": {
   "name": "python3",
   "display_name": "Python 3.6.12 64-bit ('env0': conda)"
  },
  "interpreter": {
   "hash": "fefd83eafc0c2f3c8796de3f6632c2698dc12eafcdd46e5a8c965eb3d21b0b49"
  }
 },
 "nbformat": 4,
 "nbformat_minor": 2
}