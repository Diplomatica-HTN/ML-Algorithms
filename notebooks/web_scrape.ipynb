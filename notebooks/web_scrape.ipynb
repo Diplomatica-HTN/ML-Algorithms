{
 "cells": [
  {
   "cell_type": "markdown",
   "source": [
    "# Imports"
   ],
   "metadata": {}
  },
  {
   "cell_type": "code",
   "execution_count": 1,
   "source": [
    "from urllib.request import Request, urlopen \r\n",
    "from bs4 import BeautifulSoup\r\n",
    "import requests"
   ],
   "outputs": [],
   "metadata": {}
  },
  {
   "cell_type": "markdown",
   "source": [
    "# Web Scraper"
   ],
   "metadata": {}
  },
  {
   "cell_type": "code",
   "execution_count": 10,
   "source": [
    "term = 'Canadian Election'\r\n",
    "user_search = term.replace(' ', '')"
   ],
   "outputs": [],
   "metadata": {}
  },
  {
   "cell_type": "code",
   "execution_count": 11,
   "source": [
    "root = \"https://www.google.com/\"\r\n",
    "search_engine_string = 'search?q='\r\n",
    "search_engine_other_half = '&sxsrf=AOaemvIiKfd8dkMCkRXEhoZm3rjXFGMzCQ:1631931499445&source=lnms&tbm=nws&sa=X&ved=2ahUKEwikm8nKuofzAhUPElkFHVshBFUQ_AUoAnoECAEQBA&biw=1295&bih=697&dpr=2'\r\n",
    "new_link = root + search_engine_string + user_search + search_engine_other_half\r\n",
    "\r\n",
    "link = new_link\r\n",
    "\r\n",
    "lst = []\r\n",
    "req = Request(link, headers={'User-Agent': 'Mozilla/5.0'})\r\n",
    "webpage = urlopen(req).read()\r\n",
    "with requests.Session() as c:\r\n",
    "    soup = BeautifulSoup(webpage, 'lxml')\r\n",
    "    for item in soup.find_all('div', attrs={'class':'kCrYT'}):\r\n",
    "        try:\r\n",
    "            try:\r\n",
    "                raw_link = (item.find('a', href=True)['href'])\r\n",
    "                link = (raw_link.split(\"/url?q=\")[1]).split('&sa=U&')[0]\r\n",
    "                if not link in lst:\r\n",
    "                    lst.append(link)\r\n",
    "                else:\r\n",
    "                    pass\r\n",
    "            except IndexError:\r\n",
    "                break\r\n",
    "        except TypeError:\r\n",
    "            pass\r\n",
    "\r\n",
    "print(f'**Term: {term}**\\n')\r\n",
    "print('Article Links Found:\\n')\r\n",
    "for i in lst:\r\n",
    "    print(i)"
   ],
   "outputs": [
    {
     "output_type": "stream",
     "name": "stdout",
     "text": [
      "**Term: Canadian Election**\n",
      "\n",
      "Article Links Found:\n",
      "\n",
      "https://www.washingtonpost.com/world/obama-endorses-trudeau-in-the-canadian-election/2021/09/16/ffbcf75e-1710-11ec-a019-cb193b28aa73_story.html\n",
      "https://www.newstatesman.com/canada/2021/09/canadian-election-2021-will-justin-trudeau-cling-on\n",
      "https://www.thetimes.co.uk/article/canadian-election-justin-trudeau-faces-revolt-of-the-suburbs-vjddsh68c\n",
      "https://vancouversun.com/news/politics/election-2021/daphne-bramham-is-china-interfering-in-the-canadian-election\n",
      "https://www.cicnews.com/2021/09/faq-how-immigrants-can-vote-in-the-canadian-election-0919057.html\n",
      "https://www.mcgill.ca/newsroom/channels/news/expert-sikh-canadians-play-integral-part-canadian-election-outcome-333327\n",
      "https://www.aljazeera.com/news/2021/9/10/trudeau-faces-pressure-in-final-debate-before-canadian-election\n",
      "https://theconversation.com/canadian-election-2021-do-strategic-voting-campaigns-actually-work-166782\n",
      "https://www.nationalmagazine.ca/Articles/Law/Hot-Topics-In-Law/2021/Criminal-justice-and-the-Canadian-election\n",
      "https://think.ing.com/articles/canadian-election-preview-2021-back-to-square-one/\n"
     ]
    }
   ],
   "metadata": {}
  }
 ],
 "metadata": {
  "orig_nbformat": 4,
  "language_info": {
   "name": "python",
   "version": "3.6.12",
   "mimetype": "text/x-python",
   "codemirror_mode": {
    "name": "ipython",
    "version": 3
   },
   "pygments_lexer": "ipython3",
   "nbconvert_exporter": "python",
   "file_extension": ".py"
  },
  "kernelspec": {
   "name": "python3",
   "display_name": "Python 3.6.12 64-bit ('env0': conda)"
  },
  "interpreter": {
   "hash": "fefd83eafc0c2f3c8796de3f6632c2698dc12eafcdd46e5a8c965eb3d21b0b49"
  }
 },
 "nbformat": 4,
 "nbformat_minor": 2
}