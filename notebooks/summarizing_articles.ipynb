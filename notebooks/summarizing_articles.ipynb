{
 "cells": [
  {
   "cell_type": "code",
   "execution_count": 1,
   "source": [
    "from newspaper import Article\r\n",
    "\r\n",
    "# import nltk\r\n",
    "# nltk.download('punkt')"
   ],
   "outputs": [],
   "metadata": {}
  },
  {
   "cell_type": "code",
   "execution_count": 26,
   "source": [
    "def summarize(url):\r\n",
    "    article = Article(url)\r\n",
    "    article.download()\r\n",
    "    article.parse()\r\n",
    "    article.nlp()\r\n",
    "    print('\\nTitle\\n', article.title)\r\n",
    "    print('\\nSUMMARY\\n', article.summary)\r\n",
    "    print('\\nKEYWORDS\\n', article.keywords)\r\n",
    "    return article.summary"
   ],
   "outputs": [],
   "metadata": {}
  },
  {
   "cell_type": "code",
   "execution_count": 38,
   "source": [
    "a = summarize('https://www.cbc.ca/news/politics/vote-counting-elections-canada-2021-1.6179742')"
   ],
   "outputs": [
    {
     "output_type": "stream",
     "name": "stdout",
     "text": [
      "\n",
      "Title\n",
      " The federal election might not have a clear winner Monday night — here's why\n",
      "\n",
      "SUMMARY\n",
      " More than half of those local special ballots have been returned so far.\n",
      "A special ballot can be delivered to the local Elections Canada office or, on election day, to the polling station.\n",
      "In Nunavut, for example, just a few hundred people requested them, while in Victoria, a few thousand voters asked for special ballots.\n",
      "Returning officers also can start counting ballots cast at local advance polls one hour before polls close in their ridings on election night.\n",
      "Andrew Watson, spokesperson for Elections B.C., knows a bit about what Elections Canada is about to go through.\n",
      "\n",
      "KEYWORDS\n",
      " ['special', 'local', 'elections', 'counting', 'canadians', 'canada', 'federal', 'results', 'clear', 'night', 'heres', 'ballot', 'election', 'winner', 'ballots']\n"
     ]
    }
   ],
   "metadata": {}
  },
  {
   "cell_type": "code",
   "execution_count": 64,
   "source": [
    "def complexity(summary, range):\r\n",
    "    sens = summary.split('. ')\r\n",
    "    full = []\r\n",
    "    for i in sens[0:range]:\r\n",
    "        print(i, end='')\r\n",
    "        full.append(i)\r\n",
    "    final = ''\r\n",
    "    for i in full:\r\n",
    "        i = i + '.'\r\n",
    "        final += i\r\n",
    "    # print(final)\r\n",
    "    return final\r\n",
    "\r\n",
    "complexity(a, 2)"
   ],
   "outputs": [
    {
     "output_type": "stream",
     "name": "stdout",
     "text": [
      "More than half of those local special ballots have been returned so far.\n",
      "A special ballot can be delivered to the local Elections Canada office or, on election day, to the polling station.\n",
      "In Nunavut, for example, just a few hundred people requested them, while in Victoria, a few thousand voters asked for special ballots.\n",
      "Returning officers also can start counting ballots cast at local advance polls one hour before polls close in their ridings on election night.\n",
      "Andrew Watson, spokesperson for Elections B.C., knows a bit about what Elections Canada is about to go through."
     ]
    },
    {
     "output_type": "execute_result",
     "data": {
      "text/plain": [
       "'More than half of those local special ballots have been returned so far.\\nA special ballot can be delivered to the local Elections Canada office or, on election day, to the polling station.\\nIn Nunavut, for example, just a few hundred people requested them, while in Victoria, a few thousand voters asked for special ballots.\\nReturning officers also can start counting ballots cast at local advance polls one hour before polls close in their ridings on election night.\\nAndrew Watson, spokesperson for Elections B.C., knows a bit about what Elections Canada is about to go through..'"
      ]
     },
     "metadata": {},
     "execution_count": 64
    }
   ],
   "metadata": {}
  },
  {
   "cell_type": "code",
   "execution_count": 60,
   "source": [
    "res = complexity(a, 2)\r\n",
    "print(res)"
   ],
   "outputs": [
    {
     "output_type": "stream",
     "name": "stdout",
     "text": [
      "More than half of those local special ballots have been returned so far.\n",
      "A special ballot can be delivered to the local Elections Canada office or, on election day, to the polling station.\n"
     ]
    }
   ],
   "metadata": {}
  },
  {
   "cell_type": "code",
   "execution_count": 69,
   "source": [
    "a.split('.\\n')"
   ],
   "outputs": [
    {
     "output_type": "execute_result",
     "data": {
      "text/plain": [
       "['More than half of those local special ballots have been returned so far',\n",
       " 'A special ballot can be delivered to the local Elections Canada office or, on election day, to the polling station',\n",
       " 'In Nunavut, for example, just a few hundred people requested them, while in Victoria, a few thousand voters asked for special ballots',\n",
       " 'Returning officers also can start counting ballots cast at local advance polls one hour before polls close in their ridings on election night',\n",
       " 'Andrew Watson, spokesperson for Elections B.C., knows a bit about what Elections Canada is about to go through.']"
      ]
     },
     "metadata": {},
     "execution_count": 69
    }
   ],
   "metadata": {}
  }
 ],
 "metadata": {
  "orig_nbformat": 4,
  "language_info": {
   "name": "python",
   "version": "3.6.12",
   "mimetype": "text/x-python",
   "codemirror_mode": {
    "name": "ipython",
    "version": 3
   },
   "pygments_lexer": "ipython3",
   "nbconvert_exporter": "python",
   "file_extension": ".py"
  },
  "kernelspec": {
   "name": "python3",
   "display_name": "Python 3.6.12 64-bit ('env0': conda)"
  },
  "interpreter": {
   "hash": "fefd83eafc0c2f3c8796de3f6632c2698dc12eafcdd46e5a8c965eb3d21b0b49"
  }
 },
 "nbformat": 4,
 "nbformat_minor": 2
}