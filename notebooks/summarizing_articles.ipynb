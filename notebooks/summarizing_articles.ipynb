{
 "cells": [
  {
   "cell_type": "code",
   "execution_count": 1,
   "source": [
    "from newspaper import Article\r\n",
    "\r\n",
    "# import nltk\r\n",
    "# nltk.download('punkt')"
   ],
   "outputs": [],
   "metadata": {}
  },
  {
   "cell_type": "code",
   "execution_count": 4,
   "source": [
    "url = 'https://www.cbc.ca/news/politics/vote-counting-elections-canada-2021-1.6179742'\r\n",
    "article = Article(url)\r\n",
    "\r\n",
    "article.download()\r\n",
    "\r\n",
    "article.parse()"
   ],
   "outputs": [],
   "metadata": {}
  },
  {
   "cell_type": "code",
   "execution_count": 5,
   "source": [
    "print('****', article.title, '****')"
   ],
   "outputs": [
    {
     "output_type": "stream",
     "name": "stdout",
     "text": [
      "**** The federal election might not have a clear winner Monday night — here's why ****\n"
     ]
    }
   ],
   "metadata": {}
  },
  {
   "cell_type": "code",
   "execution_count": 10,
   "source": [
    "print('****', article.top_image, '****')"
   ],
   "outputs": [
    {
     "output_type": "stream",
     "name": "stdout",
     "text": [
      "**** https://i.cbc.ca/1.6141929.1629061794!/cumulusImage/httpImage/image.jpg_gen/derivatives/16x9_620/gta-voter-casting-ballot-in-federal-election-2019.jpg ****\n"
     ]
    }
   ],
   "metadata": {}
  },
  {
   "cell_type": "code",
   "execution_count": 6,
   "source": [
    "article.nlp()\r\n",
    "print('\\nSUMMARY\\n', article.summary)"
   ],
   "outputs": [
    {
     "output_type": "stream",
     "name": "stdout",
     "text": [
      "\n",
      "SUMMARY\n",
      " More than half of those local special ballots have been returned so far.\n",
      "A special ballot can be delivered to the local Elections Canada office or, on election day, to the polling station.\n",
      "In Nunavut, for example, just a few hundred people requested them, while in Victoria, a few thousand voters asked for special ballots.\n",
      "Returning officers also can start counting ballots cast at local advance polls one hour before polls close in their ridings on election night.\n",
      "Andrew Watson, spokesperson for Elections B.C., knows a bit about what Elections Canada is about to go through.\n"
     ]
    }
   ],
   "metadata": {}
  },
  {
   "cell_type": "code",
   "execution_count": 7,
   "source": [
    "print('\\nKEYWORDS\\n', article.keywords)"
   ],
   "outputs": [
    {
     "output_type": "stream",
     "name": "stdout",
     "text": [
      "\n",
      "KEYWORDS\n",
      " ['special', 'local', 'elections', 'counting', 'canadians', 'canada', 'federal', 'results', 'clear', 'night', 'heres', 'ballot', 'election', 'winner', 'ballots']\n"
     ]
    }
   ],
   "metadata": {}
  }
 ],
 "metadata": {
  "orig_nbformat": 4,
  "language_info": {
   "name": "python",
   "version": "3.6.12",
   "mimetype": "text/x-python",
   "codemirror_mode": {
    "name": "ipython",
    "version": 3
   },
   "pygments_lexer": "ipython3",
   "nbconvert_exporter": "python",
   "file_extension": ".py"
  },
  "kernelspec": {
   "name": "python3",
   "display_name": "Python 3.6.12 64-bit ('env0': conda)"
  },
  "interpreter": {
   "hash": "fefd83eafc0c2f3c8796de3f6632c2698dc12eafcdd46e5a8c965eb3d21b0b49"
  }
 },
 "nbformat": 4,
 "nbformat_minor": 2
}