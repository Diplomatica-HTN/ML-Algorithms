{
 "cells": [
  {
   "cell_type": "code",
   "execution_count": 1,
   "source": [
    "from newspaper import Article\r\n",
    "\r\n",
    "# import nltk\r\n",
    "# nltk.download('punkt')"
   ],
   "outputs": [],
   "metadata": {}
  },
  {
   "cell_type": "code",
   "execution_count": 26,
   "source": [
    "def summarize(url):\r\n",
    "    article = Article(url)\r\n",
    "    article.download()\r\n",
    "    article.parse()\r\n",
    "    article.nlp()\r\n",
    "    print('\\nTitle\\n', article.title)\r\n",
    "    print('\\nSUMMARY\\n', article.summary)\r\n",
    "    print('\\nKEYWORDS\\n', article.keywords)\r\n",
    "    return article.summary"
   ],
   "outputs": [],
   "metadata": {}
  },
  {
   "cell_type": "code",
   "execution_count": 27,
   "source": [
    "summarize('https://www.cbc.ca/news/politics/vote-counting-elections-canada-2021-1.6179742')"
   ],
   "outputs": [
    {
     "output_type": "stream",
     "name": "stdout",
     "text": [
      "\n",
      "Title\n",
      " The federal election might not have a clear winner Monday night — here's why\n",
      "\n",
      "SUMMARY\n",
      " More than half of those local special ballots have been returned so far.\n",
      "A special ballot can be delivered to the local Elections Canada office or, on election day, to the polling station.\n",
      "In Nunavut, for example, just a few hundred people requested them, while in Victoria, a few thousand voters asked for special ballots.\n",
      "Returning officers also can start counting ballots cast at local advance polls one hour before polls close in their ridings on election night.\n",
      "Andrew Watson, spokesperson for Elections B.C., knows a bit about what Elections Canada is about to go through.\n",
      "\n",
      "KEYWORDS\n",
      " ['special', 'local', 'elections', 'counting', 'canadians', 'canada', 'federal', 'results', 'clear', 'night', 'heres', 'ballot', 'election', 'winner', 'ballots']\n"
     ]
    },
    {
     "output_type": "execute_result",
     "data": {
      "text/plain": [
       "'More than half of those local special ballots have been returned so far.\\nA special ballot can be delivered to the local Elections Canada office or, on election day, to the polling station.\\nIn Nunavut, for example, just a few hundred people requested them, while in Victoria, a few thousand voters asked for special ballots.\\nReturning officers also can start counting ballots cast at local advance polls one hour before polls close in their ridings on election night.\\nAndrew Watson, spokesperson for Elections B.C., knows a bit about what Elections Canada is about to go through.'"
      ]
     },
     "metadata": {},
     "execution_count": 27
    }
   ],
   "metadata": {}
  },
  {
   "cell_type": "code",
   "execution_count": 28,
   "source": [
    "a = summarize('https://www.cnn.com/2021/09/17/politics/kabul-drone-strike-us-military-intl-hnk/index.html')"
   ],
   "outputs": [
    {
     "output_type": "stream",
     "name": "stdout",
     "text": [
      "\n",
      "Title\n",
      " US military admits it killed 10 civilians and targeted wrong vehicle in Kabul airstrike\n",
      "\n",
      "SUMMARY\n",
      " McKenzie told reporters that the strike -- which he said killed seven children -- was a \"mistake\" and offered an apology.\n",
      "The investigation released Friday found that all of those killed in the residential compound were civilians.\n",
      "The military based the strike on a reasonable certainty standard to launch the strike on the vehicle.\n",
      "Tragically, it was the wrong vehicle, a US military official familiar with the investigation told CNN earlier Friday, adding that reasonable certainty is not 100% certainty.\n",
      "Previously, US Central Command pointed to \"significant secondary explosions\" as evidence of a \"substantial amount of explosive material\" in the vehicle.\n",
      "\n",
      "KEYWORDS\n",
      " ['wrong', 'cnn', 'official', 'targeted', 'killed', 'military', 'strike', 'investigation', 'threat', 'admits', 'kabul', 'told', 'airstrike', 'intelligence', 'vehicle', 'civilians']\n"
     ]
    }
   ],
   "metadata": {}
  }
 ],
 "metadata": {
  "orig_nbformat": 4,
  "language_info": {
   "name": "python",
   "version": "3.6.12",
   "mimetype": "text/x-python",
   "codemirror_mode": {
    "name": "ipython",
    "version": 3
   },
   "pygments_lexer": "ipython3",
   "nbconvert_exporter": "python",
   "file_extension": ".py"
  },
  "kernelspec": {
   "name": "python3",
   "display_name": "Python 3.6.12 64-bit ('env0': conda)"
  },
  "interpreter": {
   "hash": "fefd83eafc0c2f3c8796de3f6632c2698dc12eafcdd46e5a8c965eb3d21b0b49"
  }
 },
 "nbformat": 4,
 "nbformat_minor": 2
}